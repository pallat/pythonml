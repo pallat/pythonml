{
 "cells": [
  {
   "cell_type": "code",
   "execution_count": 46,
   "metadata": {},
   "outputs": [
    {
     "name": "stdout",
     "output_type": "stream",
     "text": [
      "[[66823611825]\n",
      " [66949173955]\n",
      " [66823611825]\n",
      " [66949173955]\n",
      " [66823611825]\n",
      " [66949173955]\n",
      " [66812345678]\n",
      " [66949173955]\n",
      " [66812345678]\n",
      " [66949173955]\n",
      " [66949173955]\n",
      " [66813098601]\n",
      " [66949173955]\n",
      " [66100007447]\n",
      " [66949173955]\n",
      " [66634460074]\n",
      " [66949173955]\n",
      " [66634460092]\n",
      " [66949173955]]\n",
      "[0 1 0 1 0 1 2 1 2 1 1 3 1 5 1 4 1 4 1]\n"
     ]
    },
    {
     "data": {
      "text/plain": [
       "array([1])"
      ]
     },
     "execution_count": 46,
     "metadata": {},
     "output_type": "execute_result"
    }
   ],
   "source": [
    "import pandas as pd\n",
    "\n",
    "data_file = 'data.json'\n",
    "df = pd.read_json(data_file)\n",
    "\n",
    "df['category'] = df['category'].map({'PaybyPhone (Self Service)':0,'ชำระค่าบริการ':1, 'N/A':2, 'ลงทะเบียน 3 ชั้น สำเร็จ':3, 'LINE Mobile to DTN':4, 'ยกเลิกการลงทะเบียน 3 ชั้น สำเร็จ': 5, '': 6})\n",
    "\n",
    "features = df[['subscriberNumber']].values\n",
    "labels = df['category'].values\n",
    "\n",
    "print(features)\n",
    "print(labels)\n",
    "\n",
    "clf.fit(features, labels)\n",
    "\n",
    "clf.predict([[66949173955]])\n"
   ]
  },
  {
   "cell_type": "code",
   "execution_count": null,
   "metadata": {
    "collapsed": true
   },
   "outputs": [],
   "source": []
  }
 ],
 "metadata": {
  "kernelspec": {
   "display_name": "Python 3",
   "language": "python",
   "name": "python3"
  },
  "language_info": {
   "codemirror_mode": {
    "name": "ipython",
    "version": 3
   },
   "file_extension": ".py",
   "mimetype": "text/x-python",
   "name": "python",
   "nbconvert_exporter": "python",
   "pygments_lexer": "ipython3",
   "version": "3.6.2"
  }
 },
 "nbformat": 4,
 "nbformat_minor": 2
}
