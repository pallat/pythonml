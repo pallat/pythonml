{
 "cells": [
  {
   "cell_type": "code",
   "execution_count": 32,
   "metadata": {},
   "outputs": [
    {
     "data": {
      "text/plain": [
       "array(['PaybyPhone (Self Service)', 'ชำระค่าบริการ',\n",
       "       'PaybyPhone (Self Service)', 'ชำระค่าบริการ',\n",
       "       'PaybyPhone (Self Service)', 'ชำระค่าบริการ', 'N/A',\n",
       "       'ชำระค่าบริการ', 'N/A', 'ชำระค่าบริการ', '', 'ชำระค่าบริการ',\n",
       "       'ลงทะเบียน 3 ชั้น สำเร็จ', 'ชำระค่าบริการ',\n",
       "       'ยกเลิกการลงทะเบียน 3 ชั้น สำเร็จ', 'ชำระค่าบริการ',\n",
       "       'LINE Mobile to DTN', 'ชำระค่าบริการ', 'LINE Mobile to DTN',\n",
       "       'ชำระค่าบริการ'], dtype=object)"
      ]
     },
     "execution_count": 32,
     "metadata": {},
     "output_type": "execute_result"
    }
   ],
   "source": [
    "import pandas as pd\n",
    "\n",
    "data_file = 'data.json'\n",
    "df = pd.read_json(data_file)\n",
    "\n",
    "features = df[['subscriberNumber', 'customerNumber', 'type', 'subType']].values\n",
    "\n",
    "df['category'] = df['category'].map({'PaybyPhone (Self Service)':0,'ชำระค่าบริการ':1, 'N/A':2, 'ลงทะเบียน 3 ชั้น สำเร็จ':3, 'LINE Mobile to DTN':4, 'ยกเลิกการลงทะเบียน 3 ชั้น สำเร็จ': 5, '': 6})\n",
    "labels = df['category'].values\n",
    "\n",
    "labels\n",
    "\n",
    "#clf.fit(features, labels)\n",
    "\n",
    "#clf.predict([['66949173955', '625030825'], [142, 1]])\n"
   ]
  },
  {
   "cell_type": "code",
   "execution_count": null,
   "metadata": {
    "collapsed": true
   },
   "outputs": [],
   "source": []
  }
 ],
 "metadata": {
  "kernelspec": {
   "display_name": "Python 3",
   "language": "python",
   "name": "python3"
  },
  "language_info": {
   "codemirror_mode": {
    "name": "ipython",
    "version": 3
   },
   "file_extension": ".py",
   "mimetype": "text/x-python",
   "name": "python",
   "nbconvert_exporter": "python",
   "pygments_lexer": "ipython3",
   "version": "3.6.2"
  }
 },
 "nbformat": 4,
 "nbformat_minor": 2
}
